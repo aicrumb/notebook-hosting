{
  "nbformat": 4,
  "nbformat_minor": 0,
  "metadata": {
    "colab": {
      "provenance": []
    },
    "kernelspec": {
      "name": "python3",
      "display_name": "Python 3"
    },
    "language_info": {
      "name": "python"
    },
    "widgets": {
      "application/vnd.jupyter.widget-state+json": {
        "abc9c9331789447cbe1d565aafb041c9": {
          "model_module": "@jupyter-widgets/controls",
          "model_name": "HBoxModel",
          "model_module_version": "1.5.0",
          "state": {
            "_dom_classes": [],
            "_model_module": "@jupyter-widgets/controls",
            "_model_module_version": "1.5.0",
            "_model_name": "HBoxModel",
            "_view_count": null,
            "_view_module": "@jupyter-widgets/controls",
            "_view_module_version": "1.5.0",
            "_view_name": "HBoxView",
            "box_style": "",
            "children": [
              "IPY_MODEL_7b60d00b59c7472b97345e4657b6e954",
              "IPY_MODEL_8ad23e8f231e4a82bbd4757ff024adfe",
              "IPY_MODEL_c79cb79dffdb41daaee939f8fb03d3ae"
            ],
            "layout": "IPY_MODEL_0294fa23ffb143f5b2e6a1f581ce5538"
          }
        },
        "7b60d00b59c7472b97345e4657b6e954": {
          "model_module": "@jupyter-widgets/controls",
          "model_name": "HTMLModel",
          "model_module_version": "1.5.0",
          "state": {
            "_dom_classes": [],
            "_model_module": "@jupyter-widgets/controls",
            "_model_module_version": "1.5.0",
            "_model_name": "HTMLModel",
            "_view_count": null,
            "_view_module": "@jupyter-widgets/controls",
            "_view_module_version": "1.5.0",
            "_view_name": "HTMLView",
            "description": "",
            "description_tooltip": null,
            "layout": "IPY_MODEL_c3f810289d764d9488d4f34a1ce507fa",
            "placeholder": "​",
            "style": "IPY_MODEL_01f3006352a74d89b85ea5229a153d3b",
            "value": "100%"
          }
        },
        "8ad23e8f231e4a82bbd4757ff024adfe": {
          "model_module": "@jupyter-widgets/controls",
          "model_name": "FloatProgressModel",
          "model_module_version": "1.5.0",
          "state": {
            "_dom_classes": [],
            "_model_module": "@jupyter-widgets/controls",
            "_model_module_version": "1.5.0",
            "_model_name": "FloatProgressModel",
            "_view_count": null,
            "_view_module": "@jupyter-widgets/controls",
            "_view_module_version": "1.5.0",
            "_view_name": "ProgressView",
            "bar_style": "success",
            "description": "",
            "description_tooltip": null,
            "layout": "IPY_MODEL_e1a772f201e54012a3a69a921646adc3",
            "max": 2000,
            "min": 0,
            "orientation": "horizontal",
            "style": "IPY_MODEL_cfa7ac0f478c450f82b5eb83add686e2",
            "value": 2000
          }
        },
        "c79cb79dffdb41daaee939f8fb03d3ae": {
          "model_module": "@jupyter-widgets/controls",
          "model_name": "HTMLModel",
          "model_module_version": "1.5.0",
          "state": {
            "_dom_classes": [],
            "_model_module": "@jupyter-widgets/controls",
            "_model_module_version": "1.5.0",
            "_model_name": "HTMLModel",
            "_view_count": null,
            "_view_module": "@jupyter-widgets/controls",
            "_view_module_version": "1.5.0",
            "_view_name": "HTMLView",
            "description": "",
            "description_tooltip": null,
            "layout": "IPY_MODEL_a0e4111692f841709dee28900326d3af",
            "placeholder": "​",
            "style": "IPY_MODEL_3a4013f0d6254458881b836f91547641",
            "value": " 2000/2000 [00:01&lt;00:00, 1028.81it/s]"
          }
        },
        "0294fa23ffb143f5b2e6a1f581ce5538": {
          "model_module": "@jupyter-widgets/base",
          "model_name": "LayoutModel",
          "model_module_version": "1.2.0",
          "state": {
            "_model_module": "@jupyter-widgets/base",
            "_model_module_version": "1.2.0",
            "_model_name": "LayoutModel",
            "_view_count": null,
            "_view_module": "@jupyter-widgets/base",
            "_view_module_version": "1.2.0",
            "_view_name": "LayoutView",
            "align_content": null,
            "align_items": null,
            "align_self": null,
            "border": null,
            "bottom": null,
            "display": null,
            "flex": null,
            "flex_flow": null,
            "grid_area": null,
            "grid_auto_columns": null,
            "grid_auto_flow": null,
            "grid_auto_rows": null,
            "grid_column": null,
            "grid_gap": null,
            "grid_row": null,
            "grid_template_areas": null,
            "grid_template_columns": null,
            "grid_template_rows": null,
            "height": null,
            "justify_content": null,
            "justify_items": null,
            "left": null,
            "margin": null,
            "max_height": null,
            "max_width": null,
            "min_height": null,
            "min_width": null,
            "object_fit": null,
            "object_position": null,
            "order": null,
            "overflow": null,
            "overflow_x": null,
            "overflow_y": null,
            "padding": null,
            "right": null,
            "top": null,
            "visibility": null,
            "width": null
          }
        },
        "c3f810289d764d9488d4f34a1ce507fa": {
          "model_module": "@jupyter-widgets/base",
          "model_name": "LayoutModel",
          "model_module_version": "1.2.0",
          "state": {
            "_model_module": "@jupyter-widgets/base",
            "_model_module_version": "1.2.0",
            "_model_name": "LayoutModel",
            "_view_count": null,
            "_view_module": "@jupyter-widgets/base",
            "_view_module_version": "1.2.0",
            "_view_name": "LayoutView",
            "align_content": null,
            "align_items": null,
            "align_self": null,
            "border": null,
            "bottom": null,
            "display": null,
            "flex": null,
            "flex_flow": null,
            "grid_area": null,
            "grid_auto_columns": null,
            "grid_auto_flow": null,
            "grid_auto_rows": null,
            "grid_column": null,
            "grid_gap": null,
            "grid_row": null,
            "grid_template_areas": null,
            "grid_template_columns": null,
            "grid_template_rows": null,
            "height": null,
            "justify_content": null,
            "justify_items": null,
            "left": null,
            "margin": null,
            "max_height": null,
            "max_width": null,
            "min_height": null,
            "min_width": null,
            "object_fit": null,
            "object_position": null,
            "order": null,
            "overflow": null,
            "overflow_x": null,
            "overflow_y": null,
            "padding": null,
            "right": null,
            "top": null,
            "visibility": null,
            "width": null
          }
        },
        "01f3006352a74d89b85ea5229a153d3b": {
          "model_module": "@jupyter-widgets/controls",
          "model_name": "DescriptionStyleModel",
          "model_module_version": "1.5.0",
          "state": {
            "_model_module": "@jupyter-widgets/controls",
            "_model_module_version": "1.5.0",
            "_model_name": "DescriptionStyleModel",
            "_view_count": null,
            "_view_module": "@jupyter-widgets/base",
            "_view_module_version": "1.2.0",
            "_view_name": "StyleView",
            "description_width": ""
          }
        },
        "e1a772f201e54012a3a69a921646adc3": {
          "model_module": "@jupyter-widgets/base",
          "model_name": "LayoutModel",
          "model_module_version": "1.2.0",
          "state": {
            "_model_module": "@jupyter-widgets/base",
            "_model_module_version": "1.2.0",
            "_model_name": "LayoutModel",
            "_view_count": null,
            "_view_module": "@jupyter-widgets/base",
            "_view_module_version": "1.2.0",
            "_view_name": "LayoutView",
            "align_content": null,
            "align_items": null,
            "align_self": null,
            "border": null,
            "bottom": null,
            "display": null,
            "flex": null,
            "flex_flow": null,
            "grid_area": null,
            "grid_auto_columns": null,
            "grid_auto_flow": null,
            "grid_auto_rows": null,
            "grid_column": null,
            "grid_gap": null,
            "grid_row": null,
            "grid_template_areas": null,
            "grid_template_columns": null,
            "grid_template_rows": null,
            "height": null,
            "justify_content": null,
            "justify_items": null,
            "left": null,
            "margin": null,
            "max_height": null,
            "max_width": null,
            "min_height": null,
            "min_width": null,
            "object_fit": null,
            "object_position": null,
            "order": null,
            "overflow": null,
            "overflow_x": null,
            "overflow_y": null,
            "padding": null,
            "right": null,
            "top": null,
            "visibility": null,
            "width": null
          }
        },
        "cfa7ac0f478c450f82b5eb83add686e2": {
          "model_module": "@jupyter-widgets/controls",
          "model_name": "ProgressStyleModel",
          "model_module_version": "1.5.0",
          "state": {
            "_model_module": "@jupyter-widgets/controls",
            "_model_module_version": "1.5.0",
            "_model_name": "ProgressStyleModel",
            "_view_count": null,
            "_view_module": "@jupyter-widgets/base",
            "_view_module_version": "1.2.0",
            "_view_name": "StyleView",
            "bar_color": null,
            "description_width": ""
          }
        },
        "a0e4111692f841709dee28900326d3af": {
          "model_module": "@jupyter-widgets/base",
          "model_name": "LayoutModel",
          "model_module_version": "1.2.0",
          "state": {
            "_model_module": "@jupyter-widgets/base",
            "_model_module_version": "1.2.0",
            "_model_name": "LayoutModel",
            "_view_count": null,
            "_view_module": "@jupyter-widgets/base",
            "_view_module_version": "1.2.0",
            "_view_name": "LayoutView",
            "align_content": null,
            "align_items": null,
            "align_self": null,
            "border": null,
            "bottom": null,
            "display": null,
            "flex": null,
            "flex_flow": null,
            "grid_area": null,
            "grid_auto_columns": null,
            "grid_auto_flow": null,
            "grid_auto_rows": null,
            "grid_column": null,
            "grid_gap": null,
            "grid_row": null,
            "grid_template_areas": null,
            "grid_template_columns": null,
            "grid_template_rows": null,
            "height": null,
            "justify_content": null,
            "justify_items": null,
            "left": null,
            "margin": null,
            "max_height": null,
            "max_width": null,
            "min_height": null,
            "min_width": null,
            "object_fit": null,
            "object_position": null,
            "order": null,
            "overflow": null,
            "overflow_x": null,
            "overflow_y": null,
            "padding": null,
            "right": null,
            "top": null,
            "visibility": null,
            "width": null
          }
        },
        "3a4013f0d6254458881b836f91547641": {
          "model_module": "@jupyter-widgets/controls",
          "model_name": "DescriptionStyleModel",
          "model_module_version": "1.5.0",
          "state": {
            "_model_module": "@jupyter-widgets/controls",
            "_model_module_version": "1.5.0",
            "_model_name": "DescriptionStyleModel",
            "_view_count": null,
            "_view_module": "@jupyter-widgets/base",
            "_view_module_version": "1.2.0",
            "_view_name": "StyleView",
            "description_width": ""
          }
        },
        "78e183c0e111484ab25e2d1752afad34": {
          "model_module": "@jupyter-widgets/controls",
          "model_name": "HBoxModel",
          "model_module_version": "1.5.0",
          "state": {
            "_dom_classes": [],
            "_model_module": "@jupyter-widgets/controls",
            "_model_module_version": "1.5.0",
            "_model_name": "HBoxModel",
            "_view_count": null,
            "_view_module": "@jupyter-widgets/controls",
            "_view_module_version": "1.5.0",
            "_view_name": "HBoxView",
            "box_style": "",
            "children": [
              "IPY_MODEL_34b40c5e34ef4e0ea5450da3a8c898ac",
              "IPY_MODEL_34d000717fd44a20b5222ccc2dd67cba",
              "IPY_MODEL_0e110421ff7b49fb81d95426c2b78d1f"
            ],
            "layout": "IPY_MODEL_f8268402474c4caaa847018f40c810b6"
          }
        },
        "34b40c5e34ef4e0ea5450da3a8c898ac": {
          "model_module": "@jupyter-widgets/controls",
          "model_name": "HTMLModel",
          "model_module_version": "1.5.0",
          "state": {
            "_dom_classes": [],
            "_model_module": "@jupyter-widgets/controls",
            "_model_module_version": "1.5.0",
            "_model_name": "HTMLModel",
            "_view_count": null,
            "_view_module": "@jupyter-widgets/controls",
            "_view_module_version": "1.5.0",
            "_view_name": "HTMLView",
            "description": "",
            "description_tooltip": null,
            "layout": "IPY_MODEL_67b96a80bc404fe4824178b5640e0b8b",
            "placeholder": "​",
            "style": "IPY_MODEL_a89d5bf5d03f483abba7ba7612647d19",
            "value": "100%"
          }
        },
        "34d000717fd44a20b5222ccc2dd67cba": {
          "model_module": "@jupyter-widgets/controls",
          "model_name": "FloatProgressModel",
          "model_module_version": "1.5.0",
          "state": {
            "_dom_classes": [],
            "_model_module": "@jupyter-widgets/controls",
            "_model_module_version": "1.5.0",
            "_model_name": "FloatProgressModel",
            "_view_count": null,
            "_view_module": "@jupyter-widgets/controls",
            "_view_module_version": "1.5.0",
            "_view_name": "ProgressView",
            "bar_style": "success",
            "description": "",
            "description_tooltip": null,
            "layout": "IPY_MODEL_1da8e2721d8645c984f99b33d8d45142",
            "max": 2000,
            "min": 0,
            "orientation": "horizontal",
            "style": "IPY_MODEL_e696ee6ca7f34d329892408817a68063",
            "value": 2000
          }
        },
        "0e110421ff7b49fb81d95426c2b78d1f": {
          "model_module": "@jupyter-widgets/controls",
          "model_name": "HTMLModel",
          "model_module_version": "1.5.0",
          "state": {
            "_dom_classes": [],
            "_model_module": "@jupyter-widgets/controls",
            "_model_module_version": "1.5.0",
            "_model_name": "HTMLModel",
            "_view_count": null,
            "_view_module": "@jupyter-widgets/controls",
            "_view_module_version": "1.5.0",
            "_view_name": "HTMLView",
            "description": "",
            "description_tooltip": null,
            "layout": "IPY_MODEL_258f7b70815940e9983c2a4bda175028",
            "placeholder": "​",
            "style": "IPY_MODEL_d5228704a99b4a39ac20589a902cc470",
            "value": " 2000/2000 [00:01&lt;00:00, 1198.99it/s]"
          }
        },
        "f8268402474c4caaa847018f40c810b6": {
          "model_module": "@jupyter-widgets/base",
          "model_name": "LayoutModel",
          "model_module_version": "1.2.0",
          "state": {
            "_model_module": "@jupyter-widgets/base",
            "_model_module_version": "1.2.0",
            "_model_name": "LayoutModel",
            "_view_count": null,
            "_view_module": "@jupyter-widgets/base",
            "_view_module_version": "1.2.0",
            "_view_name": "LayoutView",
            "align_content": null,
            "align_items": null,
            "align_self": null,
            "border": null,
            "bottom": null,
            "display": null,
            "flex": null,
            "flex_flow": null,
            "grid_area": null,
            "grid_auto_columns": null,
            "grid_auto_flow": null,
            "grid_auto_rows": null,
            "grid_column": null,
            "grid_gap": null,
            "grid_row": null,
            "grid_template_areas": null,
            "grid_template_columns": null,
            "grid_template_rows": null,
            "height": null,
            "justify_content": null,
            "justify_items": null,
            "left": null,
            "margin": null,
            "max_height": null,
            "max_width": null,
            "min_height": null,
            "min_width": null,
            "object_fit": null,
            "object_position": null,
            "order": null,
            "overflow": null,
            "overflow_x": null,
            "overflow_y": null,
            "padding": null,
            "right": null,
            "top": null,
            "visibility": null,
            "width": null
          }
        },
        "67b96a80bc404fe4824178b5640e0b8b": {
          "model_module": "@jupyter-widgets/base",
          "model_name": "LayoutModel",
          "model_module_version": "1.2.0",
          "state": {
            "_model_module": "@jupyter-widgets/base",
            "_model_module_version": "1.2.0",
            "_model_name": "LayoutModel",
            "_view_count": null,
            "_view_module": "@jupyter-widgets/base",
            "_view_module_version": "1.2.0",
            "_view_name": "LayoutView",
            "align_content": null,
            "align_items": null,
            "align_self": null,
            "border": null,
            "bottom": null,
            "display": null,
            "flex": null,
            "flex_flow": null,
            "grid_area": null,
            "grid_auto_columns": null,
            "grid_auto_flow": null,
            "grid_auto_rows": null,
            "grid_column": null,
            "grid_gap": null,
            "grid_row": null,
            "grid_template_areas": null,
            "grid_template_columns": null,
            "grid_template_rows": null,
            "height": null,
            "justify_content": null,
            "justify_items": null,
            "left": null,
            "margin": null,
            "max_height": null,
            "max_width": null,
            "min_height": null,
            "min_width": null,
            "object_fit": null,
            "object_position": null,
            "order": null,
            "overflow": null,
            "overflow_x": null,
            "overflow_y": null,
            "padding": null,
            "right": null,
            "top": null,
            "visibility": null,
            "width": null
          }
        },
        "a89d5bf5d03f483abba7ba7612647d19": {
          "model_module": "@jupyter-widgets/controls",
          "model_name": "DescriptionStyleModel",
          "model_module_version": "1.5.0",
          "state": {
            "_model_module": "@jupyter-widgets/controls",
            "_model_module_version": "1.5.0",
            "_model_name": "DescriptionStyleModel",
            "_view_count": null,
            "_view_module": "@jupyter-widgets/base",
            "_view_module_version": "1.2.0",
            "_view_name": "StyleView",
            "description_width": ""
          }
        },
        "1da8e2721d8645c984f99b33d8d45142": {
          "model_module": "@jupyter-widgets/base",
          "model_name": "LayoutModel",
          "model_module_version": "1.2.0",
          "state": {
            "_model_module": "@jupyter-widgets/base",
            "_model_module_version": "1.2.0",
            "_model_name": "LayoutModel",
            "_view_count": null,
            "_view_module": "@jupyter-widgets/base",
            "_view_module_version": "1.2.0",
            "_view_name": "LayoutView",
            "align_content": null,
            "align_items": null,
            "align_self": null,
            "border": null,
            "bottom": null,
            "display": null,
            "flex": null,
            "flex_flow": null,
            "grid_area": null,
            "grid_auto_columns": null,
            "grid_auto_flow": null,
            "grid_auto_rows": null,
            "grid_column": null,
            "grid_gap": null,
            "grid_row": null,
            "grid_template_areas": null,
            "grid_template_columns": null,
            "grid_template_rows": null,
            "height": null,
            "justify_content": null,
            "justify_items": null,
            "left": null,
            "margin": null,
            "max_height": null,
            "max_width": null,
            "min_height": null,
            "min_width": null,
            "object_fit": null,
            "object_position": null,
            "order": null,
            "overflow": null,
            "overflow_x": null,
            "overflow_y": null,
            "padding": null,
            "right": null,
            "top": null,
            "visibility": null,
            "width": null
          }
        },
        "e696ee6ca7f34d329892408817a68063": {
          "model_module": "@jupyter-widgets/controls",
          "model_name": "ProgressStyleModel",
          "model_module_version": "1.5.0",
          "state": {
            "_model_module": "@jupyter-widgets/controls",
            "_model_module_version": "1.5.0",
            "_model_name": "ProgressStyleModel",
            "_view_count": null,
            "_view_module": "@jupyter-widgets/base",
            "_view_module_version": "1.2.0",
            "_view_name": "StyleView",
            "bar_color": null,
            "description_width": ""
          }
        },
        "258f7b70815940e9983c2a4bda175028": {
          "model_module": "@jupyter-widgets/base",
          "model_name": "LayoutModel",
          "model_module_version": "1.2.0",
          "state": {
            "_model_module": "@jupyter-widgets/base",
            "_model_module_version": "1.2.0",
            "_model_name": "LayoutModel",
            "_view_count": null,
            "_view_module": "@jupyter-widgets/base",
            "_view_module_version": "1.2.0",
            "_view_name": "LayoutView",
            "align_content": null,
            "align_items": null,
            "align_self": null,
            "border": null,
            "bottom": null,
            "display": null,
            "flex": null,
            "flex_flow": null,
            "grid_area": null,
            "grid_auto_columns": null,
            "grid_auto_flow": null,
            "grid_auto_rows": null,
            "grid_column": null,
            "grid_gap": null,
            "grid_row": null,
            "grid_template_areas": null,
            "grid_template_columns": null,
            "grid_template_rows": null,
            "height": null,
            "justify_content": null,
            "justify_items": null,
            "left": null,
            "margin": null,
            "max_height": null,
            "max_width": null,
            "min_height": null,
            "min_width": null,
            "object_fit": null,
            "object_position": null,
            "order": null,
            "overflow": null,
            "overflow_x": null,
            "overflow_y": null,
            "padding": null,
            "right": null,
            "top": null,
            "visibility": null,
            "width": null
          }
        },
        "d5228704a99b4a39ac20589a902cc470": {
          "model_module": "@jupyter-widgets/controls",
          "model_name": "DescriptionStyleModel",
          "model_module_version": "1.5.0",
          "state": {
            "_model_module": "@jupyter-widgets/controls",
            "_model_module_version": "1.5.0",
            "_model_name": "DescriptionStyleModel",
            "_view_count": null,
            "_view_module": "@jupyter-widgets/base",
            "_view_module_version": "1.2.0",
            "_view_name": "StyleView",
            "description_width": ""
          }
        }
      }
    }
  },
  "cells": [
    {
      "cell_type": "markdown",
      "source": [
        "# Forward-Forward Explained with XOR\n",
        "A horribly over-engineered XOR solver to demonstrate the forward-forward unsuprivised learning method described by Geoffrey Hinton in [The Forward-Forward Algorithm: Some Preliminary Investigations](https://arxiv.org/pdf/2212.13345.pdf). *(To my knowledge this is correct, but that doesn't mean I didn't miss something obvious or didn't misunderstand anything)*\n",
        "\n",
        "\\- [aicrumb](https://twitter.com/aicrumb)"
      ],
      "metadata": {
        "id": "BwiP_HCb6pxG"
      }
    },
    {
      "cell_type": "code",
      "execution_count": 1,
      "metadata": {
        "id": "Uxw_Lqo61iPY"
      },
      "outputs": [],
      "source": [
        "import torch\n",
        "from torch import nn, optim\n",
        "import torch.nn.functional as F\n",
        "from tqdm.auto import trange\n",
        "\n",
        "# create the unlabelled data to train our embedding model with\n",
        "\n",
        "X = torch.tensor([[0, 1], [1, 1], [1, 0], [0, 0]])\n",
        "\n",
        "# as well as our little model and an optimizer\n",
        "\n",
        "encoder = nn.Sequential(\n",
        "    nn.Linear(2, 8),\n",
        "    nn.ReLU()\n",
        ")\n",
        "opt = optim.Adam(encoder.parameters(), 0.05)"
      ]
    },
    {
      "cell_type": "code",
      "source": [
        "for i in trange(2_000):\n",
        "\n",
        "    # create the real (real) and fake (random) data and feed it through the model\n",
        "\n",
        "    x_pos = X.clone()\n",
        "    x_neg = torch.randn(*x_pos.shape) / 2 + 0.5 \n",
        "    # (idk why but randn_like was crashing the machine)\n",
        "\n",
        "    x_pos = encoder(x_pos.float())\n",
        "    x_neg = encoder(x_neg.float())\n",
        "\n",
        "    # we just want to maximize the values output for real samples\n",
        "    # and minimize the values output by the model for fake samples\n",
        "    # i stole this fn from https://github.com/mohammadpz/pytorch_forward_forward\n",
        "\n",
        "    g_pos = x_pos.pow(2).mean(1)\n",
        "    g_neg = x_neg.pow(2).mean(1)\n",
        "\n",
        "    loss = torch.log(1 + torch.exp(\n",
        "        torch.cat([\n",
        "            -g_pos + 2.,\n",
        "            g_neg - 2.\n",
        "        ])\n",
        "    )).mean()\n",
        "\n",
        "    # do a lil step, this is *technically* backprop here but also\n",
        "    # *technically* computing the derivatives for w/b here \n",
        "    # is such a simple process that doesn't actually need the torch api\n",
        "    # but im lazy, so we do it this way\n",
        "\n",
        "    loss.backward()\n",
        "    opt.step()\n",
        "    opt.zero_grad()"
      ],
      "metadata": {
        "colab": {
          "base_uri": "https://localhost:8080/",
          "height": 49,
          "referenced_widgets": [
            "abc9c9331789447cbe1d565aafb041c9",
            "7b60d00b59c7472b97345e4657b6e954",
            "8ad23e8f231e4a82bbd4757ff024adfe",
            "c79cb79dffdb41daaee939f8fb03d3ae",
            "0294fa23ffb143f5b2e6a1f581ce5538",
            "c3f810289d764d9488d4f34a1ce507fa",
            "01f3006352a74d89b85ea5229a153d3b",
            "e1a772f201e54012a3a69a921646adc3",
            "cfa7ac0f478c450f82b5eb83add686e2",
            "a0e4111692f841709dee28900326d3af",
            "3a4013f0d6254458881b836f91547641"
          ]
        },
        "id": "QoBYO9ON2tHQ",
        "outputId": "a979d32f-2ec2-422c-a0a6-b4209f67457d"
      },
      "execution_count": 2,
      "outputs": [
        {
          "output_type": "display_data",
          "data": {
            "text/plain": [
              "  0%|          | 0/2000 [00:00<?, ?it/s]"
            ],
            "application/vnd.jupyter.widget-view+json": {
              "version_major": 2,
              "version_minor": 0,
              "model_id": "abc9c9331789447cbe1d565aafb041c9"
            }
          },
          "metadata": {}
        }
      ]
    },
    {
      "cell_type": "code",
      "source": [
        "# here is where we would feed the outputs of the first layer into another layer\n",
        "# and train the exact same way. since this is just an example i wont be doing\n",
        "# that here"
      ],
      "metadata": {
        "id": "drszlJlJ60nA"
      },
      "execution_count": 3,
      "outputs": []
    },
    {
      "cell_type": "code",
      "source": [
        "# this is what our net embeds each example as, we're going to train \n",
        "# one classifier layer on top afterward, not as part of the forward-forward\n",
        "# process\n",
        "\n",
        "embedded_x = encoder(X.float())\n",
        "embedded_x"
      ],
      "metadata": {
        "colab": {
          "base_uri": "https://localhost:8080/"
        },
        "id": "2OhSsZgr3Hid",
        "outputId": "fe98d5ab-314a-4bbb-8c37-fabac85b3a52"
      },
      "execution_count": 4,
      "outputs": [
        {
          "output_type": "execute_result",
          "data": {
            "text/plain": [
              "tensor([[3.1239, 0.0000, 0.0000, 1.9045, 1.8605, 1.2976, 0.0000, 0.0000],\n",
              "        [3.2355, 0.0000, 0.0000, 2.0181, 0.0000, 1.1044, 0.0000, 0.0000],\n",
              "        [3.2319, 0.0000, 0.0000, 1.9207, 0.0000, 1.3022, 0.0000, 0.0000],\n",
              "        [3.1203, 0.0000, 0.0000, 1.8071, 1.9119, 1.4954, 0.0000, 0.0366]],\n",
              "       grad_fn=<ReluBackward0>)"
            ]
          },
          "metadata": {},
          "execution_count": 4
        }
      ]
    },
    {
      "cell_type": "code",
      "source": [
        "# we'll now create our classifier layer and an optimizer for it, and also our labeled data\n",
        "\n",
        "X = torch.tensor([[0, 1], [1, 1], [1, 0], [0, 0]])\n",
        "y = torch.tensor([1, 0, 1, 0])\n",
        "\n",
        "classifier = nn.Sequential(\n",
        "    nn.Linear(8, 1), \n",
        "    nn.Sigmoid(),\n",
        ")\n",
        "\n",
        "opt = optim.Adam(classifier.parameters(), 0.05)"
      ],
      "metadata": {
        "id": "wL8fiP5K4Fpr"
      },
      "execution_count": 5,
      "outputs": []
    },
    {
      "cell_type": "code",
      "source": [
        "# first we'll encoder our data\n",
        "\n",
        "X = encoder(X.float()).clone().detach()\n",
        "\n",
        "for i in trange(2_000):\n",
        "\n",
        "    # then find the error between our classifier's outputs and \n",
        "    # the real outputs\n",
        "\n",
        "    pred_labels = classifier(X).flatten()\n",
        "    loss = nn.MSELoss()(pred_labels, y.float())\n",
        "\n",
        "    # backward and step\n",
        "    loss.backward()\n",
        "    opt.step()\n",
        "    opt.zero_grad()"
      ],
      "metadata": {
        "colab": {
          "base_uri": "https://localhost:8080/",
          "height": 49,
          "referenced_widgets": [
            "78e183c0e111484ab25e2d1752afad34",
            "34b40c5e34ef4e0ea5450da3a8c898ac",
            "34d000717fd44a20b5222ccc2dd67cba",
            "0e110421ff7b49fb81d95426c2b78d1f",
            "f8268402474c4caaa847018f40c810b6",
            "67b96a80bc404fe4824178b5640e0b8b",
            "a89d5bf5d03f483abba7ba7612647d19",
            "1da8e2721d8645c984f99b33d8d45142",
            "e696ee6ca7f34d329892408817a68063",
            "258f7b70815940e9983c2a4bda175028",
            "d5228704a99b4a39ac20589a902cc470"
          ]
        },
        "id": "_Eo8fJGT4ZW9",
        "outputId": "fdcd9e11-9465-4685-d2a7-c6f8df980f7a"
      },
      "execution_count": 6,
      "outputs": [
        {
          "output_type": "display_data",
          "data": {
            "text/plain": [
              "  0%|          | 0/2000 [00:00<?, ?it/s]"
            ],
            "application/vnd.jupyter.widget-view+json": {
              "version_major": 2,
              "version_minor": 0,
              "model_id": "78e183c0e111484ab25e2d1752afad34"
            }
          },
          "metadata": {}
        }
      ]
    },
    {
      "cell_type": "code",
      "source": [
        "# now we can chain our models together into one classifier\n",
        "\n",
        "model = nn.Sequential(\n",
        "    encoder,\n",
        "    classifier\n",
        ")\n",
        "\n",
        "# and use it to predict xor labels\n",
        "\n",
        "print(\"0, 1 -\", model(torch.tensor([[0., 1.]])).item())\n",
        "print(\"1, 1 -\", model(torch.tensor([[1., 1.]])).item())\n",
        "print(\"1, 0 -\", model(torch.tensor([[1., 0.]])).item())\n",
        "print(\"0, 0 -\", model(torch.tensor([[0., 0.]])).item())"
      ],
      "metadata": {
        "colab": {
          "base_uri": "https://localhost:8080/"
        },
        "id": "l81u-pZ943PX",
        "outputId": "1d15b0d2-5f81-4c5d-faff-91e8cc5047fb"
      },
      "execution_count": 7,
      "outputs": [
        {
          "output_type": "stream",
          "name": "stdout",
          "text": [
            "0, 1 - 0.6876693367958069\n",
            "1, 1 - 0.31053829193115234\n",
            "1, 0 - 0.6948422193527222\n",
            "0, 0 - 0.30689385533332825\n"
          ]
        }
      ]
    }
  ]
}