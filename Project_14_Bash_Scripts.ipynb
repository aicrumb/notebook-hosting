{
  "nbformat": 4,
  "nbformat_minor": 0,
  "metadata": {
    "colab": {
      "provenance": []
    },
    "kernelspec": {
      "name": "python3",
      "display_name": "Python 3"
    },
    "language_info": {
      "name": "python"
    }
  },
  "cells": [
    {
      "cell_type": "code",
      "source": [
        "!apt-get install bc\n",
        "from IPython.display import clear_output\n",
        "clear_output() # to be a little cleaner"
      ],
      "metadata": {
        "id": "RVs7PElsCP6H"
      },
      "execution_count": 35,
      "outputs": []
    },
    {
      "cell_type": "code",
      "source": [
        "%%bash\n",
        "#!/bin/bash\n",
        "# i couldn't think of anything relating to the system BOOM docked points\n",
        "# NOTE: in case this script doesn't work, this is the environment i tested in: https://bit.ly/3oQA1QP\n",
        "\n",
        "# I'm learning to make hexadecimal computers in minecraft so this program is\n",
        "# simulating one of the simplest hex \"computers\" you can make in minecraft\n",
        "# (a hex adder and a not gate as the \"alu\" w/ two input registers and one output register)\n",
        "# I think this is technically a new esolang but it isnt turing complete without a conditional\n",
        "# INSTRUCTION SET (slightly modified for the interpreter):\n",
        "# 0001 - REG1+REG2 -> OUT\n",
        "# 0010 - NOT REG1 -> OUT\n",
        "# 0011 - DUMP REG 1\n",
        "# 0100 - DUMP REG 2\n",
        "# 0101 - DUMP REG OUT\n",
        "# 0110xxxx - WRITE REG 2 (xxxx optional - defaults to REG OUT if omitted)\n",
        "# 0111xxxx - WRITE REG 1 (xxxx optional - defaults to REG OUT if omitted)\n",
        "# 1000 - SHOW REG OUT\n",
        "# technically all instructions are 8 bits but thats because there's an input line\n",
        "# that's always active but not always used when using instructions that dont need it\n",
        "# here's fibonacci\n",
        "\n",
        "PROGRAM=\"01100001;0001;1000;01110001;0001;0111;1000;0001;0110;1000;0001;0111;1000;0001;0110;1000;0001;0111;1000;0001;0110;1000;0001;0111;1000;0001;0110;1000\"\n",
        "\n",
        "# technically this is a system operation if it reads from a file\n",
        "# PROGRAM=$(cat program.mcl)\n",
        "\n",
        "REG1=0\n",
        "REG2=0\n",
        "REGO=0\n",
        "\n",
        "INSTRUCTIONS=$(echo $PROGRAM | tr \";\" \"\\n\")\n",
        "for INSTRUCTION in $INSTRUCTIONS\n",
        "do\n",
        "    echo $INSTRUCTION >> log.txt\n",
        "    # SHOW REG OUT\n",
        "    if [[ $INSTRUCTION == \"1000\"* ]]\n",
        "    then\n",
        "        echo $REGO\n",
        "    fi\n",
        "    # WRITE REG2\n",
        "    if [[ $INSTRUCTION == \"0110\"* ]]\n",
        "    then\n",
        "        if [ ${#INSTRUCTION}  -gt 4 ]\n",
        "        then\n",
        "            REG2=${INSTRUCTION: -4}\n",
        "            REG2=$(echo \"ibase=2;obase=10;$REG2\" | bc)\n",
        "        else\n",
        "            REG2=$REGO\n",
        "        fi\n",
        "    fi\n",
        "    # WRITE REG1\n",
        "    if [[ $INSTRUCTION == \"0111\"* ]]\n",
        "    then\n",
        "        if [ ${#INSTRUCTION}  -gt 4 ]\n",
        "        then\n",
        "            REG1=${INSTRUCTION: -4}\n",
        "            REG1=$(echo \"ibase=2;obase=10;$REG1\" | bc)\n",
        "        else\n",
        "            REG1=$REGO\n",
        "        fi\n",
        "    fi\n",
        "    # SET REGO REG1+REG2\n",
        "    if [[ $INSTRUCTION == \"0001\"* ]]\n",
        "    then\n",
        "        REGO=$(echo \"$REG1+$REG2\" | bc)\n",
        "    fi\n",
        "    # SET REGO NOT REG1\n",
        "    if [[ $INSTRUCTION == \"0010\"* ]]\n",
        "    then\n",
        "        REGO=$(echo \"15-$REG1\" | bc)\n",
        "    fi\n",
        "    # DUMP REG1\n",
        "    if [[ $INSTRUCTION == \"0011\"* ]]\n",
        "    then\n",
        "        REG1=0\n",
        "    fi\n",
        "    # DUMP REGO\n",
        "    if [[ $INSTRUCTION == \"0101\"* ]]\n",
        "    then\n",
        "        REGO=0\n",
        "    fi\n",
        "    # DUMP REG2\n",
        "    if [[ $INSTRUCTION == \"0100\"* ]]\n",
        "    then\n",
        "        REG2=0\n",
        "    fi\n",
        "    echo \"REG1: $REG1 | REG2: $REG2 | REGO: $REGO\" >> log.txt\n",
        "done\n",
        "\n"
      ],
      "metadata": {
        "colab": {
          "base_uri": "https://localhost:8080/"
        },
        "id": "H4Be2hP2KOWY",
        "outputId": "ffb45202-5cf2-4623-8a28-9946b7c36357"
      },
      "execution_count": 41,
      "outputs": [
        {
          "output_type": "stream",
          "name": "stdout",
          "text": [
            "1\n",
            "2\n",
            "3\n",
            "5\n",
            "8\n",
            "13\n",
            "21\n",
            "34\n",
            "55\n"
          ]
        }
      ]
    },
    {
      "cell_type": "code",
      "source": [],
      "metadata": {
        "id": "PhuFOXK1VhIy"
      },
      "execution_count": null,
      "outputs": []
    }
  ]
}