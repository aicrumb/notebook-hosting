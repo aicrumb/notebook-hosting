{
  "nbformat": 4,
  "nbformat_minor": 0,
  "metadata": {
    "colab": {
      "provenance": [],
      "gpuType": "T4"
    },
    "kernelspec": {
      "name": "python3",
      "display_name": "Python 3"
    },
    "language_info": {
      "name": "python"
    },
    "accelerator": "GPU",
    "widgets": {
      "application/vnd.jupyter.widget-state+json": {
        "32b9c34ec23b43e99fbf79d670ee67cb": {
          "model_module": "@jupyter-widgets/controls",
          "model_name": "HBoxModel",
          "model_module_version": "1.5.0",
          "state": {
            "_dom_classes": [],
            "_model_module": "@jupyter-widgets/controls",
            "_model_module_version": "1.5.0",
            "_model_name": "HBoxModel",
            "_view_count": null,
            "_view_module": "@jupyter-widgets/controls",
            "_view_module_version": "1.5.0",
            "_view_name": "HBoxView",
            "box_style": "",
            "children": [
              "IPY_MODEL_b9328bd599af4397ad2dbbbabcaddf92",
              "IPY_MODEL_808148a5e49d4351ac05b88412b312eb",
              "IPY_MODEL_647686d483684c56b15fd65f9b51f791"
            ],
            "layout": "IPY_MODEL_b1ec9cda361f4739a9f6beb9d65bbefe"
          }
        },
        "b9328bd599af4397ad2dbbbabcaddf92": {
          "model_module": "@jupyter-widgets/controls",
          "model_name": "HTMLModel",
          "model_module_version": "1.5.0",
          "state": {
            "_dom_classes": [],
            "_model_module": "@jupyter-widgets/controls",
            "_model_module_version": "1.5.0",
            "_model_name": "HTMLModel",
            "_view_count": null,
            "_view_module": "@jupyter-widgets/controls",
            "_view_module_version": "1.5.0",
            "_view_name": "HTMLView",
            "description": "",
            "description_tooltip": null,
            "layout": "IPY_MODEL_14746abd36c84655b34820afd5267302",
            "placeholder": "​",
            "style": "IPY_MODEL_7aa317d83aa84185a46a9b9b0bb8d370",
            "value": "  6%"
          }
        },
        "808148a5e49d4351ac05b88412b312eb": {
          "model_module": "@jupyter-widgets/controls",
          "model_name": "FloatProgressModel",
          "model_module_version": "1.5.0",
          "state": {
            "_dom_classes": [],
            "_model_module": "@jupyter-widgets/controls",
            "_model_module_version": "1.5.0",
            "_model_name": "FloatProgressModel",
            "_view_count": null,
            "_view_module": "@jupyter-widgets/controls",
            "_view_module_version": "1.5.0",
            "_view_name": "ProgressView",
            "bar_style": "",
            "description": "",
            "description_tooltip": null,
            "layout": "IPY_MODEL_203c15862eeb4382b1faaa0eb4eab0bf",
            "max": 99,
            "min": 0,
            "orientation": "horizontal",
            "style": "IPY_MODEL_d147f529c6224dcdb7e37adcbec0c8f8",
            "value": 6
          }
        },
        "647686d483684c56b15fd65f9b51f791": {
          "model_module": "@jupyter-widgets/controls",
          "model_name": "HTMLModel",
          "model_module_version": "1.5.0",
          "state": {
            "_dom_classes": [],
            "_model_module": "@jupyter-widgets/controls",
            "_model_module_version": "1.5.0",
            "_model_name": "HTMLModel",
            "_view_count": null,
            "_view_module": "@jupyter-widgets/controls",
            "_view_module_version": "1.5.0",
            "_view_name": "HTMLView",
            "description": "",
            "description_tooltip": null,
            "layout": "IPY_MODEL_958f05bb8d4f4dc989583f308b7e85a0",
            "placeholder": "​",
            "style": "IPY_MODEL_235f933d4212425085a75490017249ce",
            "value": " 6/99 [00:19&lt;04:47,  3.09s/it]"
          }
        },
        "b1ec9cda361f4739a9f6beb9d65bbefe": {
          "model_module": "@jupyter-widgets/base",
          "model_name": "LayoutModel",
          "model_module_version": "1.2.0",
          "state": {
            "_model_module": "@jupyter-widgets/base",
            "_model_module_version": "1.2.0",
            "_model_name": "LayoutModel",
            "_view_count": null,
            "_view_module": "@jupyter-widgets/base",
            "_view_module_version": "1.2.0",
            "_view_name": "LayoutView",
            "align_content": null,
            "align_items": null,
            "align_self": null,
            "border": null,
            "bottom": null,
            "display": null,
            "flex": null,
            "flex_flow": null,
            "grid_area": null,
            "grid_auto_columns": null,
            "grid_auto_flow": null,
            "grid_auto_rows": null,
            "grid_column": null,
            "grid_gap": null,
            "grid_row": null,
            "grid_template_areas": null,
            "grid_template_columns": null,
            "grid_template_rows": null,
            "height": null,
            "justify_content": null,
            "justify_items": null,
            "left": null,
            "margin": null,
            "max_height": null,
            "max_width": null,
            "min_height": null,
            "min_width": null,
            "object_fit": null,
            "object_position": null,
            "order": null,
            "overflow": null,
            "overflow_x": null,
            "overflow_y": null,
            "padding": null,
            "right": null,
            "top": null,
            "visibility": null,
            "width": null
          }
        },
        "14746abd36c84655b34820afd5267302": {
          "model_module": "@jupyter-widgets/base",
          "model_name": "LayoutModel",
          "model_module_version": "1.2.0",
          "state": {
            "_model_module": "@jupyter-widgets/base",
            "_model_module_version": "1.2.0",
            "_model_name": "LayoutModel",
            "_view_count": null,
            "_view_module": "@jupyter-widgets/base",
            "_view_module_version": "1.2.0",
            "_view_name": "LayoutView",
            "align_content": null,
            "align_items": null,
            "align_self": null,
            "border": null,
            "bottom": null,
            "display": null,
            "flex": null,
            "flex_flow": null,
            "grid_area": null,
            "grid_auto_columns": null,
            "grid_auto_flow": null,
            "grid_auto_rows": null,
            "grid_column": null,
            "grid_gap": null,
            "grid_row": null,
            "grid_template_areas": null,
            "grid_template_columns": null,
            "grid_template_rows": null,
            "height": null,
            "justify_content": null,
            "justify_items": null,
            "left": null,
            "margin": null,
            "max_height": null,
            "max_width": null,
            "min_height": null,
            "min_width": null,
            "object_fit": null,
            "object_position": null,
            "order": null,
            "overflow": null,
            "overflow_x": null,
            "overflow_y": null,
            "padding": null,
            "right": null,
            "top": null,
            "visibility": null,
            "width": null
          }
        },
        "7aa317d83aa84185a46a9b9b0bb8d370": {
          "model_module": "@jupyter-widgets/controls",
          "model_name": "DescriptionStyleModel",
          "model_module_version": "1.5.0",
          "state": {
            "_model_module": "@jupyter-widgets/controls",
            "_model_module_version": "1.5.0",
            "_model_name": "DescriptionStyleModel",
            "_view_count": null,
            "_view_module": "@jupyter-widgets/base",
            "_view_module_version": "1.2.0",
            "_view_name": "StyleView",
            "description_width": ""
          }
        },
        "203c15862eeb4382b1faaa0eb4eab0bf": {
          "model_module": "@jupyter-widgets/base",
          "model_name": "LayoutModel",
          "model_module_version": "1.2.0",
          "state": {
            "_model_module": "@jupyter-widgets/base",
            "_model_module_version": "1.2.0",
            "_model_name": "LayoutModel",
            "_view_count": null,
            "_view_module": "@jupyter-widgets/base",
            "_view_module_version": "1.2.0",
            "_view_name": "LayoutView",
            "align_content": null,
            "align_items": null,
            "align_self": null,
            "border": null,
            "bottom": null,
            "display": null,
            "flex": null,
            "flex_flow": null,
            "grid_area": null,
            "grid_auto_columns": null,
            "grid_auto_flow": null,
            "grid_auto_rows": null,
            "grid_column": null,
            "grid_gap": null,
            "grid_row": null,
            "grid_template_areas": null,
            "grid_template_columns": null,
            "grid_template_rows": null,
            "height": null,
            "justify_content": null,
            "justify_items": null,
            "left": null,
            "margin": null,
            "max_height": null,
            "max_width": null,
            "min_height": null,
            "min_width": null,
            "object_fit": null,
            "object_position": null,
            "order": null,
            "overflow": null,
            "overflow_x": null,
            "overflow_y": null,
            "padding": null,
            "right": null,
            "top": null,
            "visibility": null,
            "width": null
          }
        },
        "d147f529c6224dcdb7e37adcbec0c8f8": {
          "model_module": "@jupyter-widgets/controls",
          "model_name": "ProgressStyleModel",
          "model_module_version": "1.5.0",
          "state": {
            "_model_module": "@jupyter-widgets/controls",
            "_model_module_version": "1.5.0",
            "_model_name": "ProgressStyleModel",
            "_view_count": null,
            "_view_module": "@jupyter-widgets/base",
            "_view_module_version": "1.2.0",
            "_view_name": "StyleView",
            "bar_color": null,
            "description_width": ""
          }
        },
        "958f05bb8d4f4dc989583f308b7e85a0": {
          "model_module": "@jupyter-widgets/base",
          "model_name": "LayoutModel",
          "model_module_version": "1.2.0",
          "state": {
            "_model_module": "@jupyter-widgets/base",
            "_model_module_version": "1.2.0",
            "_model_name": "LayoutModel",
            "_view_count": null,
            "_view_module": "@jupyter-widgets/base",
            "_view_module_version": "1.2.0",
            "_view_name": "LayoutView",
            "align_content": null,
            "align_items": null,
            "align_self": null,
            "border": null,
            "bottom": null,
            "display": null,
            "flex": null,
            "flex_flow": null,
            "grid_area": null,
            "grid_auto_columns": null,
            "grid_auto_flow": null,
            "grid_auto_rows": null,
            "grid_column": null,
            "grid_gap": null,
            "grid_row": null,
            "grid_template_areas": null,
            "grid_template_columns": null,
            "grid_template_rows": null,
            "height": null,
            "justify_content": null,
            "justify_items": null,
            "left": null,
            "margin": null,
            "max_height": null,
            "max_width": null,
            "min_height": null,
            "min_width": null,
            "object_fit": null,
            "object_position": null,
            "order": null,
            "overflow": null,
            "overflow_x": null,
            "overflow_y": null,
            "padding": null,
            "right": null,
            "top": null,
            "visibility": null,
            "width": null
          }
        },
        "235f933d4212425085a75490017249ce": {
          "model_module": "@jupyter-widgets/controls",
          "model_name": "DescriptionStyleModel",
          "model_module_version": "1.5.0",
          "state": {
            "_model_module": "@jupyter-widgets/controls",
            "_model_module_version": "1.5.0",
            "_model_name": "DescriptionStyleModel",
            "_view_count": null,
            "_view_module": "@jupyter-widgets/base",
            "_view_module_version": "1.2.0",
            "_view_name": "StyleView",
            "description_width": ""
          }
        }
      }
    }
  },
  "cells": [
    {
      "cell_type": "markdown",
      "source": [
        "wip i need to finish\n",
        "https://twitter.com/aicrumb\n"
      ],
      "metadata": {
        "id": "rjEq4Qg2-1kr"
      }
    },
    {
      "cell_type": "code",
      "execution_count": null,
      "metadata": {
        "id": "nykiKSJq8VOB"
      },
      "outputs": [],
      "source": [
        "%pip install -qq transformers accelerate bitsandbytes optimum"
      ]
    },
    {
      "cell_type": "code",
      "source": [
        "from transformers import AutoModelForCausalLM, AutoTokenizer\n",
        "from tqdm.auto import tqdm, trange\n",
        "import torch\n",
        "\n",
        "# imagine these are better models\n",
        "big_model_id = \"gpt2-xl\"\n",
        "small_model_id = \"gpt2\"\n",
        "\n",
        "tokenizer = AutoTokenizer.from_pretrained(big_model_id) # they should use the same tokenizer\n",
        "\n",
        "big_model = AutoModelForCausalLM.from_pretrained(big_model_id, load_in_4bit=True, device_map=\"auto\")\n",
        "small_model = AutoModelForCausalLM.from_pretrained(small_model_id, device_map=\"auto\")\n",
        "\n",
        "big_model = big_model.to_bettertransformer()\n",
        "small_model = small_model.to_bettertransformer()"
      ],
      "metadata": {
        "colab": {
          "base_uri": "https://localhost:8080/"
        },
        "id": "Dhf6B3-j8aQd",
        "outputId": "2acde734-b292-4af2-b142-d43a4e3c2974"
      },
      "execution_count": null,
      "outputs": [
        {
          "output_type": "stream",
          "name": "stderr",
          "text": [
            "The BetterTransformer implementation does not support padding during training, as the fused kernels do not support attention masks. Beware that passing padded batched data during training may result in unexpected outputs. Please refer to https://huggingface.co/docs/optimum/bettertransformer/overview for more details.\n",
            "The BetterTransformer implementation does not support padding during training, as the fused kernels do not support attention masks. Beware that passing padded batched data during training may result in unexpected outputs. Please refer to https://huggingface.co/docs/optimum/bettertransformer/overview for more details.\n"
          ]
        }
      ]
    },
    {
      "cell_type": "code",
      "source": [
        "# adjust batch size for your gpu, sequence length, and model\n",
        "\n",
        "prompt = \"ago in a galaxy far, far away...\" # target: A long time ago in a galaxy far, far away...\n",
        "batch_size = 512\n",
        "prompt_tokens = tokenizer.encode(prompt, return_tensors='pt')\n",
        "possible_tokens = list(range(tokenizer.vocab_size))\n",
        "\n",
        "def generator(x, batch_size):\n",
        "    for i in range(0, len(x) // batch_size + 1):\n",
        "        yield(x[i*batch_size:i*batch_size+batch_size])\n",
        "\n",
        "tokens = list(generator(possible_tokens, batch_size))"
      ],
      "metadata": {
        "id": "IZc1q4559TLo"
      },
      "execution_count": null,
      "outputs": []
    },
    {
      "cell_type": "code",
      "source": [
        "loss_fct = torch.nn.CrossEntropyLoss(reduction='none')\n",
        "perplexities = []\n",
        "for batch_pre_tokens in tqdm(tokens):\n",
        "    batch_prompt_tokens = prompt_tokens.repeat(len(batch_pre_tokens), 1)\n",
        "    batch_prompt_tokens = torch.cat([torch.tensor(batch_pre_tokens).unsqueeze(-1), batch_prompt_tokens], -1)\n",
        "    batch_prompt_tokens = batch_prompt_tokens.cuda()\n",
        "    with torch.no_grad():\n",
        "        # just the forward method of gpt2 basically copy/pasted without extra fluff\n",
        "        # https://github.com/huggingface/transformers/blob/d1a00f9dd0b851245e4a54cbd70816a80e781ec2/src/transformers/models/gpt2/modeling_gpt2.py#L1049\n",
        "        transformer_outputs = small_model.transformer(batch_prompt_tokens)\n",
        "        hidden_states = transformer_outputs[0]\n",
        "        lm_logits = small_model.lm_head(hidden_states)\n",
        "        shift_logits = lm_logits[..., :-1, :].contiguous()\n",
        "        shift_labels = batch_prompt_tokens[..., 1:].contiguous()\n",
        "        # deviate here :/\n",
        "        shift_labels = torch.nn.functional.one_hot(shift_labels, tokenizer.vocab_size)\n",
        "        loss = loss_fct(shift_logits, shift_labels.float())\n",
        "        loss = loss.tolist()\n",
        "        perplexities += loss\n"
      ],
      "metadata": {
        "colab": {
          "base_uri": "https://localhost:8080/",
          "height": 49,
          "referenced_widgets": [
            "32b9c34ec23b43e99fbf79d670ee67cb",
            "b9328bd599af4397ad2dbbbabcaddf92",
            "808148a5e49d4351ac05b88412b312eb",
            "647686d483684c56b15fd65f9b51f791",
            "b1ec9cda361f4739a9f6beb9d65bbefe",
            "14746abd36c84655b34820afd5267302",
            "7aa317d83aa84185a46a9b9b0bb8d370",
            "203c15862eeb4382b1faaa0eb4eab0bf",
            "d147f529c6224dcdb7e37adcbec0c8f8",
            "958f05bb8d4f4dc989583f308b7e85a0",
            "235f933d4212425085a75490017249ce"
          ]
        },
        "id": "GXpbG3Et96gk",
        "outputId": "66b6b2c6-ceb1-4b58-b56a-6070a5d50b5b"
      },
      "execution_count": null,
      "outputs": [
        {
          "output_type": "display_data",
          "data": {
            "text/plain": [
              "  0%|          | 0/99 [00:00<?, ?it/s]"
            ],
            "application/vnd.jupyter.widget-view+json": {
              "version_major": 2,
              "version_minor": 0,
              "model_id": "32b9c34ec23b43e99fbf79d670ee67cb"
            }
          },
          "metadata": {}
        }
      ]
    },
    {
      "cell_type": "code",
      "source": [
        "torch.topk(torch.tensor(perplexities), 8)"
      ],
      "metadata": {
        "id": "9nOEAMQv_LPu"
      },
      "execution_count": null,
      "outputs": []
    },
    {
      "cell_type": "code",
      "source": [
        "# okay if this didn't use up all of the ram then i would say \"then you choose the top k (like, maybe 20) indices and either\n",
        "# sample from them the same way we sample for transformers or then run them through the bigger model\n",
        "# to find a smaller top k to sample from or just the top most probable\""
      ],
      "metadata": {
        "id": "58esBeQ0OPt2"
      },
      "execution_count": null,
      "outputs": []
    }
  ]
}